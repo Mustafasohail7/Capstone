{
 "cells": [
  {
   "cell_type": "code",
   "execution_count": 32,
   "metadata": {},
   "outputs": [],
   "source": [
    "from arcgis.gis import GIS\n",
    "from arcgis.geocoding import geocode\n",
    "from arcgis.raster import ImageryLayer\n",
    "import arcpy\n",
    "import matplotlib.pyplot as plt\n",
    "from arcpy.ia import Render\n",
    "\n",
    "my_gis = GIS(\"https://www.arcgis.com\", \"murtazaalikhokhar\", \"YOHSIN123\")\n",
    "pakistan_location = geocode(\"Pakistan\")[0]\n",
    "map = my_gis.map(pakistan_location, zoomlevel=6)"
   ]
  },
  {
   "cell_type": "code",
   "execution_count": 45,
   "metadata": {},
   "outputs": [
    {
     "ename": "NameError",
     "evalue": "name 'tiff_path' is not defined",
     "output_type": "error",
     "traceback": [
      "\u001b[0;31m---------------------------------------------------------------------------\u001b[0m\n\u001b[0;31mNameError\u001b[0m                                 Traceback (most recent call last)",
      "In  \u001b[0;34m[45]\u001b[0m:\nLine \u001b[0;34m3\u001b[0m:     rendered_raster = Render(tiff_path)\u001b[37m\u001b[39;49;00m\n",
      "\u001b[0;31mNameError\u001b[0m: name 'tiff_path' is not defined\n\u001b[0;31m---------------------------------------------------------------------------\u001b[0m"
     ]
    }
   ],
   "source": [
    "#tiff_path = \"C:\\Users\\CC\\OneDrive - Habib University\\FYP\\FYP\\API\\downloads\\LC09_L2SP_152043_20240223_20240225_02_T1.tif\"\n",
    "# Use the Render function to generate a raster object suitable for visualization\n",
    "rendered_raster = Render(tiff_path)\n",
    "\n",
    "# Convert the rendered raster to a NumPy array for visualization\n",
    "#arr = arcpy.RasterToNumPyArray(rendered_raster)\n",
    "\n",
    "# Use matplotlib to display the array\n",
    "plt.imshow(arr, cmap='terrain')  # 'terrain' is just an example colormap\n",
    "plt.show()"
   ]
  }
 ],
 "metadata": {
  "kernelspec": {
   "display_name": "ArcGISPro",
   "language": "Python",
   "name": "python3"
  },
  "language_info": {
   "file_extension": ".py",
   "name": "python",
   "version": "3"
  }
 },
 "nbformat": 4,
 "nbformat_minor": 2
}
