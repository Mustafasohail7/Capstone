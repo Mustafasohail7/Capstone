{
 "cells": [
  {
   "cell_type": "code",
   "execution_count": 73,
   "metadata": {},
   "outputs": [
    {
     "data": {
      "application/vnd.jupyter.widget-view+json": {
       "model_id": "adb3bee2d8fd42209376f7eacd98423a",
       "version_major": 2,
       "version_minor": 0
      },
      "text/plain": [
       "MapView(layout=Layout(height='400px', width='100%'))"
      ]
     },
     "metadata": {},
     "output_type": "display_data"
    },
    {
     "data": {
      "text/html": [
       "<div class=\"map-static-img-preview-7e28838f-79b8-425e-9bbe-f6069925ab17\"><img src=\"\"></img></div>"
      ],
      "text/plain": [
       "<display.HTML object>"
      ]
     },
     "metadata": {},
     "output_type": "display_data"
    },
    {
     "data": {
      "text/html": [
       "<div class=\"map-html-embed-preview-7e28838f-79b8-425e-9bbe-f6069925ab17\"></div>"
      ],
      "text/plain": [
       "<display.HTML object>"
      ]
     },
     "metadata": {},
     "output_type": "display_data"
    }
   ],
   "source": [
    "from arcgis.gis import GIS\n",
    "from arcgis.mapping import WebMap\n",
    "from arcgis.geocoding import geocode\n",
    "from arcgis.raster import ImageryLayer\n",
    "import arcpy\n",
    "import arcpy.mp as mp\n",
    "import matplotlib.pyplot as plt\n",
    "from arcpy.ia import Render\n",
    "\n",
    "my_gis = GIS(\"https://www.arcgis.com\", \"murtazaalikhokhar\", \"YOHSIN123\")\n",
    "pakistan_location = geocode(\"Pakistan\")[0]\n",
    "# Create a new map\n",
    "map = my_gis.map(pakistan_location, zoomlevel=6)\n",
    "\n",
    "# Add the imagery layer to the map using its URL\n",
    "imagery_layer_url = \"https://hydroinformatics.maps.arcgis.com/sharing/rest/content/items/4c1732a49ff04a30859b49d4aef6a1b8/data\"\n",
    "# Create an ImageryLayer object from the URL\n",
    "imagery_layer = ImageryLayer(imagery_layer_url)\n",
    "# Add the imagery layer to the map\n",
    "map.add_layer(imagery_layer)\n",
    "\n",
    "# Optionally, save the map to your content\n",
    "map.save(item_properties={'title': 'Map with My TIF Layer', 'tags': 'TIF, Imagery', 'snippet': 'Map containing my TIF layer.'})\n",
    "\n",
    "map"
   ]
  },
  {
   "cell_type": "code",
   "execution_count": 84,
   "metadata": {},
   "outputs": [
    {
     "name": "stdout",
     "output_type": "stream",
     "text": [
      "Map\n"
     ]
    },
    {
     "data": {
      "text/plain": [
       "<arcpy._mp.Map object at 0x00000253082DA6A0>"
      ]
     },
     "execution_count": 84,
     "metadata": {},
     "output_type": "execute_result"
    }
   ],
   "source": [
    "from arcgis.gis import GIS\n",
    "from arcgis.mapping import WebMap\n",
    "from arcgis.geocoding import geocode\n",
    "from arcgis.raster import ImageryLayer\n",
    "import arcpy\n",
    "import arcpy.mp as mp\n",
    "import matplotlib.pyplot as plt\n",
    "from arcpy.ia import Render\n",
    "\n",
    "# Reference the current project\n",
    "aprx = arcpy.mp.ArcGISProject(\"CURRENT\")\n",
    "my_gis = GIS(\"https://www.arcgis.com\", \"murtazaalikhokhar\", \"YOHSIN123\")\n",
    "# Reference the map where you want to add the TIF file\n",
    "# Replace 'Map' with the name of your map\n",
    "for m in aprx.listMaps():\n",
    "    print(m.name)\n",
    "map = aprx.listMaps(\"Map\")[0]\n",
    "\n",
    "# Path to the TIF file\n",
    "tif_path = r\"C:\\Users\\CC\\OneDrive - Habib University\\FYP\\test\\LC08_L2SP_152042_20231010_20231017_02_T1_SR_B7.tif\"\n",
    "\n",
    "# Add the TIF file as a layer\n",
    "map.addDataFromPath(tif_path)\n",
    "\n",
    "# Optionally, save the project if you're making changes that you want to keep\n",
    "aprx.save()\n",
    "map\n"
   ]
  }
 ],
 "metadata": {
  "kernelspec": {
   "display_name": "ArcGISPro",
   "language": "Python",
   "name": "python3"
  },
  "language_info": {
   "file_extension": ".py",
   "name": "python",
   "version": "3"
  }
 },
 "nbformat": 4,
 "nbformat_minor": 2
}
