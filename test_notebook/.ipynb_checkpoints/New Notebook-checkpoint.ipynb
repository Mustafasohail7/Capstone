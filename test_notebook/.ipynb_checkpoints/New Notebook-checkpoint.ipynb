{
 "cells": [
  {
   "cell_type": "code",
   "execution_count": 67,
   "metadata": {},
   "outputs": [
    {
     "ename": "IndexError",
     "evalue": "list index out of range",
     "output_type": "error",
     "traceback": [
      "\u001b[0;31m---------------------------------------------------------------------------\u001b[0m\n\u001b[0;31mIndexError\u001b[0m                                Traceback (most recent call last)",
      "In  \u001b[0;34m[67]\u001b[0m:\nLine \u001b[0;34m17\u001b[0m:    \u001b[36mmap\u001b[39;49;00m = aprx.listMaps(map_name)[\u001b[34m0\u001b[39;49;00m]\u001b[37m\u001b[39;49;00m\n",
      "\u001b[0;31mIndexError\u001b[0m: list index out of range\n\u001b[0;31m---------------------------------------------------------------------------\u001b[0m"
     ]
    }
   ],
   "source": [
    "from arcgis.gis import GIS\n",
    "from arcgis.mapping import WebMap\n",
    "from arcgis.geocoding import geocode\n",
    "from arcgis.raster import ImageryLayer\n",
    "import arcpy\n",
    "import arcpy.mp as mp\n",
    "import matplotlib.pyplot as plt\n",
    "from arcpy.ia import Render\n",
    "\n",
    "my_gis = GIS(\"https://www.arcgis.com\", \"murtazaalikhokhar\", \"YOHSIN123\")\n",
    "pakistan_location = geocode(\"Pakistan\")[0]\n",
    "# Create a new map\n",
    "map = gis.map(pakistan_location, zoomlevel=6)\n",
    "\n",
    "# Add the imagery layer to the map using its URL\n",
    "imagery_layer_url = \"Your_Published_Imagery_Layer_URL\"\n",
    "map.add_layer_from_item(imagery_layer_url)\n",
    "\n",
    "# Optionally, save the map to your content\n",
    "map.save(item_properties={'title': 'Map with My TIF Layer', 'tags': 'TIF, Imagery', 'snippet': 'Map containing my TIF layer.'})\n",
    "\n",
    "map"
   ]
  },
  {
   "cell_type": "code",
   "execution_count": 69,
   "metadata": {},
   "outputs": [
    {
     "ename": "AttributeError",
     "evalue": "'MapView' object has no attribute 'addDataFromPath'",
     "output_type": "error",
     "traceback": [
      "\u001b[0;31m---------------------------------------------------------------------------\u001b[0m\n\u001b[0;31mAttributeError\u001b[0m                            Traceback (most recent call last)",
      "In  \u001b[0;34m[69]\u001b[0m:\nLine \u001b[0;34m2\u001b[0m:     layer = \u001b[36mmap\u001b[39;49;00m.addDataFromPath(tif_path)\u001b[37m\u001b[39;49;00m\n",
      "\u001b[0;31mAttributeError\u001b[0m: 'MapView' object has no attribute 'addDataFromPath'\n\u001b[0;31m---------------------------------------------------------------------------\u001b[0m"
     ]
    }
   ],
   "source": []
  }
 ],
 "metadata": {
  "kernelspec": {
   "display_name": "ArcGISPro",
   "language": "Python",
   "name": "python3"
  },
  "language_info": {
   "file_extension": ".py",
   "name": "python",
   "version": "3"
  }
 },
 "nbformat": 4,
 "nbformat_minor": 2
}
