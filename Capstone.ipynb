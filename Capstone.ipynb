{
  "cells": [
    {
      "cell_type": "markdown",
      "metadata": {
        "colab_type": "text",
        "id": "view-in-github"
      },
      "source": [
        "<a href=\"https://colab.research.google.com/github/Mustafasohail7/Capstone/blob/main/Capstone.ipynb\" target=\"_parent\"><img src=\"https://colab.research.google.com/assets/colab-badge.svg\" alt=\"Open In Colab\"/></a>"
      ]
    },
    {
      "cell_type": "code",
      "execution_count": 1,
      "metadata": {},
      "outputs": [
        {
          "name": "stdout",
          "output_type": "stream",
          "text": [
            "coordinate: 1 out of 3\n",
            "5 scenes found.\n",
            "date chosen 2024-02-23 00:00:00\n",
            "--------------------------\n",
            "Download options found\n",
            "--------------------------\n",
            "Products available to download:  8\n",
            "--------------------------\n",
            "All downloads available\n",
            "--------------------------\n",
            "Downloading L2SR_LC09_L2SP_152044_20240223_20240225_02_T1_SR_B3.TIF\n",
            "testing\n",
            "requesting session\n",
            "https://dds.cr.usgs.gov/download/eyJpZCI6NTk5MjMyODI3LCJjb250YWN0SWQiOjI2ODg3OTMzfQ==\n"
          ]
        }
      ],
      "source": [
        "from API.main import main\n",
        "\n",
        "start_date = '2024-01-01'\n",
        "end_date = '2024-03-01'\n",
        "file_path = 'API/testing_coords.txt'\n",
        "\n",
        "main(start_date, end_date, file_path)"
      ]
    },
    {
      "cell_type": "code",
      "execution_count": null,
      "metadata": {},
      "outputs": [],
      "source": []
    }
  ],
  "metadata": {
    "colab": {
      "authorship_tag": "ABX9TyPjGC//8kyotE1hiki/t8rZ",
      "include_colab_link": true,
      "provenance": []
    },
    "kernelspec": {
      "display_name": "Python 3",
      "name": "python3"
    },
    "language_info": {
      "codemirror_mode": {
        "name": "ipython",
        "version": 3
      },
      "file_extension": ".py",
      "mimetype": "text/x-python",
      "name": "python",
      "nbconvert_exporter": "python",
      "pygments_lexer": "ipython3",
      "version": "3.11.8"
    }
  },
  "nbformat": 4,
  "nbformat_minor": 0
}
