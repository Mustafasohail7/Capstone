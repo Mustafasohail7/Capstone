{
  "cells": [
    {
      "cell_type": "markdown",
      "metadata": {
        "colab_type": "text",
        "id": "view-in-github"
      },
      "source": [
        "<a href=\"https://colab.research.google.com/github/Mustafasohail7/Capstone/blob/main/Capstone.ipynb\" target=\"_parent\"><img src=\"https://colab.research.google.com/assets/colab-badge.svg\" alt=\"Open In Colab\"/></a>"
      ]
    },
    {
      "cell_type": "code",
      "execution_count": 1,
      "metadata": {},
      "outputs": [
        {
          "name": "stdout",
          "output_type": "stream",
          "text": [
            "coordinate: 1 out of 3\n",
            "5 scenes found.\n",
            "date chosen 2024-02-23 00:00:00\n",
            "--------------------------\n",
            "Download options found\n",
            "--------------------------\n",
            "Products available to download:  8\n",
            "--------------------------\n",
            "All downloads available\n",
            "--------------------------\n",
            "Downloading L2SR_LC09_L2SP_152044_20240223_20240225_02_T1_SR_B3.TIF\n",
<<<<<<< HEAD
            "https://dds.cr.usgs.gov/download/eyJpZCI6NTk5MjMyODI3LCJjb250YWN0SWQiOjI2ODg3OTMzfQ==\n",
            "https://dds.cr.usgs.gov/download/eyJpZCI6NTk5MjMyODI3LCJjb250YWN0SWQiOjI2ODg3OTMzfQ==\n",
            "File already exists.\n",
            "--------------------------\n",
            "Downloading L2SR_LC09_L2SP_152044_20240223_20240225_02_T1_SR_B5.TIF\n",
            "https://dds.cr.usgs.gov/download/eyJpZCI6NTk5MjMyODI4LCJjb250YWN0SWQiOjI2ODg3OTMzfQ==\n",
            "https://dds.cr.usgs.gov/download/eyJpZCI6NTk5MjMyODI4LCJjb250YWN0SWQiOjI2ODg3OTMzfQ==\n",
            "File already exists.\n",
            "--------------------------\n",
            "Downloading L2SR_LC09_L2SP_152044_20240223_20240225_02_T1_SR_B6.TIF\n",
            "https://dds.cr.usgs.gov/download/eyJpZCI6NTk5MjMyODI5LCJjb250YWN0SWQiOjI2ODg3OTMzfQ==\n",
            "https://dds.cr.usgs.gov/download/eyJpZCI6NTk5MjMyODI5LCJjb250YWN0SWQiOjI2ODg3OTMzfQ==\n",
            "File already exists.\n",
            "--------------------------\n",
            "Downloading L2SR_LC09_L2SP_152044_20240223_20240225_02_T1_SR_B7.TIF\n",
            "https://dds.cr.usgs.gov/download/eyJpZCI6NTk5MjMyODMwLCJjb250YWN0SWQiOjI2ODg3OTMzfQ==\n",
            "https://dds.cr.usgs.gov/download/eyJpZCI6NTk5MjMyODMwLCJjb250YWN0SWQiOjI2ODg3OTMzfQ==\n",
            "File already exists.\n",
            "--------------------------\n",
            "coordinate: 2 out of 3\n",
            "4 scenes found.\n",
            "date chosen 2024-02-23 00:00:00\n",
            "--------------------------\n",
            "Download options found\n",
            "--------------------------\n",
            "Products available to download:  8\n",
            "--------------------------\n",
            "All downloads available\n",
            "--------------------------\n",
            "Downloading L2SR_LC09_L2SP_152043_20240223_20240225_02_T1_SR_B3.TIF\n",
            "https://dds.cr.usgs.gov/download/eyJpZCI6NTk4NzQzMzMwLCJjb250YWN0SWQiOjI2ODg3OTMzfQ==\n",
            "https://dds.cr.usgs.gov/download/eyJpZCI6NTk4NzQzMzMwLCJjb250YWN0SWQiOjI2ODg3OTMzfQ==\n",
            "File downloaded successfully.\n",
            "--------------------------\n",
            "Downloading L2SR_LC09_L2SP_152043_20240223_20240225_02_T1_SR_B5.TIF\n",
            "https://dds.cr.usgs.gov/download/eyJpZCI6NTk4NzQzMzMyLCJjb250YWN0SWQiOjI2ODg3OTMzfQ==\n",
            "https://dds.cr.usgs.gov/download/eyJpZCI6NTk4NzQzMzMyLCJjb250YWN0SWQiOjI2ODg3OTMzfQ==\n",
            "File downloaded successfully.\n",
            "--------------------------\n",
            "Downloading L2SR_LC09_L2SP_152043_20240223_20240225_02_T1_SR_B6.TIF\n",
            "https://dds.cr.usgs.gov/download/eyJpZCI6NTk4NzQzMzMzLCJjb250YWN0SWQiOjI2ODg3OTMzfQ==\n",
            "https://dds.cr.usgs.gov/download/eyJpZCI6NTk4NzQzMzMzLCJjb250YWN0SWQiOjI2ODg3OTMzfQ==\n",
            "File downloaded successfully.\n",
            "--------------------------\n",
            "Downloading L2SR_LC09_L2SP_152043_20240223_20240225_02_T1_SR_B7.TIF\n",
            "https://dds.cr.usgs.gov/download/eyJpZCI6NTk4NzQzMzM0LCJjb250YWN0SWQiOjI2ODg3OTMzfQ==\n",
            "https://dds.cr.usgs.gov/download/eyJpZCI6NTk4NzQzMzM0LCJjb250YWN0SWQiOjI2ODg3OTMzfQ==\n",
            "File downloaded successfully.\n",
            "--------------------------\n",
            "coordinate: 3 out of 3\n",
            "3 scenes found.\n",
            "date chosen 2024-02-23 00:00:00\n",
            "--------------------------\n",
            "Download options found\n",
            "--------------------------\n",
            "Products available to download:  8\n",
            "--------------------------\n"
          ]
        },
        {
          "ename": "KeyError",
          "evalue": "'message'",
          "output_type": "error",
          "traceback": [
            "\u001b[0;31m---------------------------------------------------------------------------\u001b[0m",
            "\u001b[0;31mKeyError\u001b[0m                                  Traceback (most recent call last)",
            "Cell \u001b[0;32mIn[1], line 7\u001b[0m\n\u001b[1;32m      4\u001b[0m end_date \u001b[38;5;241m=\u001b[39m \u001b[38;5;124m'\u001b[39m\u001b[38;5;124m2024-03-01\u001b[39m\u001b[38;5;124m'\u001b[39m\n\u001b[1;32m      5\u001b[0m file_path \u001b[38;5;241m=\u001b[39m \u001b[38;5;124m'\u001b[39m\u001b[38;5;124mAPI/testing_coords.txt\u001b[39m\u001b[38;5;124m'\u001b[39m\n\u001b[0;32m----> 7\u001b[0m \u001b[43mmain\u001b[49m\u001b[43m(\u001b[49m\u001b[43mstart_date\u001b[49m\u001b[43m,\u001b[49m\u001b[43m \u001b[49m\u001b[43mend_date\u001b[49m\u001b[43m,\u001b[49m\u001b[43m \u001b[49m\u001b[43mfile_path\u001b[49m\u001b[43m)\u001b[49m\n",
            "File \u001b[0;32m/workspaces/Capstone/API/main.py:30\u001b[0m, in \u001b[0;36mmain\u001b[0;34m(start_date, end_date, file_path)\u001b[0m\n\u001b[1;32m     27\u001b[0m     landsat \u001b[38;5;241m=\u001b[39m Landsat(baseUrl,datasetName,coordinates[i][\u001b[38;5;241m0\u001b[39m],coordinates[i][\u001b[38;5;241m1\u001b[39m],start_date,end_date) \n\u001b[1;32m     29\u001b[0m \u001b[38;5;28;01mif\u001b[39;00m \u001b[38;5;129;01mnot\u001b[39;00m landsat[\u001b[38;5;124m'\u001b[39m\u001b[38;5;124msuccess\u001b[39m\u001b[38;5;124m'\u001b[39m]:             \n\u001b[0;32m---> 30\u001b[0m     \u001b[38;5;28mprint\u001b[39m(\u001b[43mlandsat\u001b[49m\u001b[43m[\u001b[49m\u001b[38;5;124;43m'\u001b[39;49m\u001b[38;5;124;43mmessage\u001b[39;49m\u001b[38;5;124;43m'\u001b[39;49m\u001b[43m]\u001b[49m)\n",
            "\u001b[0;31mKeyError\u001b[0m: 'message'"
=======
            "testing\n",
            "requesting session\n",
            "https://dds.cr.usgs.gov/download/eyJpZCI6NTk5MjMyODI3LCJjb250YWN0SWQiOjI2ODg3OTMzfQ==\n"
>>>>>>> f4aa7ea75fe6f3a6dfb680b0a504efabe6588cfb
          ]
        }
      ],
      "source": [
        "from API.main import main\n",
        "\n",
        "start_date = '2024-01-01'\n",
        "end_date = '2024-03-01'\n",
        "file_path = 'API/testing_coords.txt'\n",
        "\n",
        "main(start_date, end_date, file_path)"
      ]
    },
    {
      "cell_type": "code",
      "execution_count": null,
      "metadata": {},
      "outputs": [],
      "source": []
    }
  ],
  "metadata": {
    "colab": {
      "authorship_tag": "ABX9TyPjGC//8kyotE1hiki/t8rZ",
      "include_colab_link": true,
      "provenance": []
    },
    "kernelspec": {
      "display_name": "Python 3",
      "name": "python3"
    },
    "language_info": {
      "codemirror_mode": {
        "name": "ipython",
        "version": 3
      },
      "file_extension": ".py",
      "mimetype": "text/x-python",
      "name": "python",
      "nbconvert_exporter": "python",
      "pygments_lexer": "ipython3",
      "version": "3.10.13"
    }
  },
  "nbformat": 4,
  "nbformat_minor": 0
}
