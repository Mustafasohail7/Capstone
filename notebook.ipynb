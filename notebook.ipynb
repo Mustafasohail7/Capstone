{
  "nbformat": 4,
  "nbformat_minor": 0,
  "metadata": {
    "colab": {
      "provenance": [],
      "authorship_tag": "ABX9TyORqKsltoe5rDgF+tHyinya",
      "include_colab_link": true
    },
    "kernelspec": {
      "name": "python3",
      "display_name": "Python 3"
    },
    "language_info": {
      "name": "python"
    }
  },
  "cells": [
    {
      "cell_type": "markdown",
      "metadata": {
        "id": "view-in-github",
        "colab_type": "text"
      },
      "source": [
        "<a href=\"https://colab.research.google.com/github/Mustafasohail7/Capstone/blob/main/notebook.ipynb\" target=\"_parent\"><img src=\"https://colab.research.google.com/assets/colab-badge.svg\" alt=\"Open In Colab\"/></a>"
      ]
    },
    {
      "cell_type": "markdown",
      "source": [
        "### Parameters"
      ],
      "metadata": {
        "id": "084206JbtxuI"
      }
    },
    {
      "cell_type": "code",
      "source": [
        "start_date = \"2024-05-11\"\n",
        "end_date = \"\"\n",
        "coords_file = 'testing_coords.txt'\n",
        "method = 'NDWI'\n",
        "cloud_cover = 10\n",
        "threshold = 0.05"
      ],
      "metadata": {
        "id": "_GzJOe56tz35"
      },
      "execution_count": 11,
      "outputs": []
    },
    {
      "cell_type": "markdown",
      "source": [
        "### Setting Up Dependencies"
      ],
      "metadata": {
        "id": "oIGrdnZNcZ5r"
      }
    },
    {
      "cell_type": "code",
      "source": [
        "!pip install landsatxplore numpy scipy matplotlib rasterio --quiet 2> /dev/null"
      ],
      "metadata": {
        "id": "aKOfXUozmLUq"
      },
      "execution_count": 12,
      "outputs": []
    },
    {
      "cell_type": "code",
      "source": [
        "!rm -r /content/src"
      ],
      "metadata": {
        "id": "R1INGgpBGucV"
      },
      "execution_count": 13,
      "outputs": []
    },
    {
      "cell_type": "code",
      "execution_count": 14,
      "metadata": {
        "colab": {
          "base_uri": "https://localhost:8080/"
        },
        "id": "Dm6lodO-lKdl",
        "outputId": "6b527f5c-c7fc-4633-ca5a-eb02926eef52"
      },
      "outputs": [
        {
          "output_type": "stream",
          "name": "stdout",
          "text": [
            "--2024-05-11 06:51:41--  https://github.com/Mustafasohail7/Capstone/raw/main/API/searchScene.py\n",
            "Resolving github.com (github.com)... 140.82.113.4\n",
            "Connecting to github.com (github.com)|140.82.113.4|:443... connected.\n",
            "HTTP request sent, awaiting response... 302 Found\n",
            "Location: https://raw.githubusercontent.com/Mustafasohail7/Capstone/main/API/searchScene.py [following]\n",
            "--2024-05-11 06:51:42--  https://raw.githubusercontent.com/Mustafasohail7/Capstone/main/API/searchScene.py\n",
            "Resolving raw.githubusercontent.com (raw.githubusercontent.com)... 185.199.108.133, 185.199.111.133, 185.199.110.133, ...\n",
            "Connecting to raw.githubusercontent.com (raw.githubusercontent.com)|185.199.108.133|:443... connected.\n",
            "HTTP request sent, awaiting response... 200 OK\n",
            "Length: 2845 (2.8K) [text/plain]\n",
            "Saving to: ‘src/api/searchScene.py’\n",
            "\n",
            "searchScene.py      100%[===================>]   2.78K  --.-KB/s    in 0s      \n",
            "\n",
            "2024-05-11 06:51:42 (25.9 MB/s) - ‘src/api/searchScene.py’ saved [2845/2845]\n",
            "\n",
            "--2024-05-11 06:51:42--  https://github.com/Mustafasohail7/Capstone/raw/main/API/landsat.py\n",
            "Resolving github.com (github.com)... 140.82.114.4\n",
            "Connecting to github.com (github.com)|140.82.114.4|:443... connected.\n",
            "HTTP request sent, awaiting response... 302 Found\n",
            "Location: https://raw.githubusercontent.com/Mustafasohail7/Capstone/main/API/landsat.py [following]\n",
            "--2024-05-11 06:51:42--  https://raw.githubusercontent.com/Mustafasohail7/Capstone/main/API/landsat.py\n",
            "Resolving raw.githubusercontent.com (raw.githubusercontent.com)... 185.199.108.133, 185.199.109.133, 185.199.110.133, ...\n",
            "Connecting to raw.githubusercontent.com (raw.githubusercontent.com)|185.199.108.133|:443... connected.\n",
            "HTTP request sent, awaiting response... 200 OK\n",
            "Length: 6147 (6.0K) [text/plain]\n",
            "Saving to: ‘src/api/landsat.py’\n",
            "\n",
            "landsat.py          100%[===================>]   6.00K  --.-KB/s    in 0s      \n",
            "\n",
            "2024-05-11 06:51:42 (56.0 MB/s) - ‘src/api/landsat.py’ saved [6147/6147]\n",
            "\n",
            "--2024-05-11 06:51:42--  https://github.com/Mustafasohail7/Capstone/raw/main/API/utils.py\n",
            "Resolving github.com (github.com)... 140.82.114.4\n",
            "Connecting to github.com (github.com)|140.82.114.4|:443... connected.\n",
            "HTTP request sent, awaiting response... 302 Found\n",
            "Location: https://raw.githubusercontent.com/Mustafasohail7/Capstone/main/API/utils.py [following]\n",
            "--2024-05-11 06:51:42--  https://raw.githubusercontent.com/Mustafasohail7/Capstone/main/API/utils.py\n",
            "Resolving raw.githubusercontent.com (raw.githubusercontent.com)... 185.199.108.133, 185.199.109.133, 185.199.110.133, ...\n",
            "Connecting to raw.githubusercontent.com (raw.githubusercontent.com)|185.199.108.133|:443... connected.\n",
            "HTTP request sent, awaiting response... 200 OK\n",
            "Length: 3011 (2.9K) [text/plain]\n",
            "Saving to: ‘src/api/utils.py’\n",
            "\n",
            "utils.py            100%[===================>]   2.94K  --.-KB/s    in 0s      \n",
            "\n",
            "2024-05-11 06:51:42 (32.9 MB/s) - ‘src/api/utils.py’ saved [3011/3011]\n",
            "\n",
            "File ‘co-ords.txt’ already there; not retrieving.\n",
            "\n",
            "File ‘testing_coords.txt’ already there; not retrieving.\n",
            "\n",
            "--2024-05-11 06:51:43--  https://github.com/Mustafasohail7/Capstone/raw/main/vanilla/process.py\n",
            "Resolving github.com (github.com)... 140.82.114.4\n",
            "Connecting to github.com (github.com)|140.82.114.4|:443... connected.\n",
            "HTTP request sent, awaiting response... 302 Found\n",
            "Location: https://raw.githubusercontent.com/Mustafasohail7/Capstone/main/vanilla/process.py [following]\n",
            "--2024-05-11 06:51:43--  https://raw.githubusercontent.com/Mustafasohail7/Capstone/main/vanilla/process.py\n",
            "Resolving raw.githubusercontent.com (raw.githubusercontent.com)... 185.199.108.133, 185.199.109.133, 185.199.110.133, ...\n",
            "Connecting to raw.githubusercontent.com (raw.githubusercontent.com)|185.199.108.133|:443... connected.\n",
            "HTTP request sent, awaiting response... 200 OK\n",
            "Length: 3118 (3.0K) [text/plain]\n",
            "Saving to: ‘src/algos/process.py’\n",
            "\n",
            "process.py          100%[===================>]   3.04K  --.-KB/s    in 0s      \n",
            "\n",
            "2024-05-11 06:51:43 (37.6 MB/s) - ‘src/algos/process.py’ saved [3118/3118]\n",
            "\n",
            "--2024-05-11 06:51:43--  https://github.com/Mustafasohail7/Capstone/raw/main/vanilla/main_helper.py\n",
            "Resolving github.com (github.com)... 140.82.114.4\n",
            "Connecting to github.com (github.com)|140.82.114.4|:443... connected.\n",
            "HTTP request sent, awaiting response... 302 Found\n",
            "Location: https://raw.githubusercontent.com/Mustafasohail7/Capstone/main/vanilla/main_helper.py [following]\n",
            "--2024-05-11 06:51:43--  https://raw.githubusercontent.com/Mustafasohail7/Capstone/main/vanilla/main_helper.py\n",
            "Resolving raw.githubusercontent.com (raw.githubusercontent.com)... 185.199.111.133, 185.199.109.133, 185.199.108.133, ...\n",
            "Connecting to raw.githubusercontent.com (raw.githubusercontent.com)|185.199.111.133|:443... connected.\n",
            "HTTP request sent, awaiting response... 200 OK\n",
            "Length: 7317 (7.1K) [text/plain]\n",
            "Saving to: ‘src/algos/main_helper.py’\n",
            "\n",
            "main_helper.py      100%[===================>]   7.15K  --.-KB/s    in 0s      \n",
            "\n",
            "2024-05-11 06:51:43 (57.1 MB/s) - ‘src/algos/main_helper.py’ saved [7317/7317]\n",
            "\n",
            "--2024-05-11 06:51:43--  https://github.com/Mustafasohail7/Capstone/raw/main/vanilla/find_files.py\n",
            "Resolving github.com (github.com)... 140.82.114.4\n",
            "Connecting to github.com (github.com)|140.82.114.4|:443... connected.\n",
            "HTTP request sent, awaiting response... 302 Found\n",
            "Location: https://raw.githubusercontent.com/Mustafasohail7/Capstone/main/vanilla/find_files.py [following]\n",
            "--2024-05-11 06:51:43--  https://raw.githubusercontent.com/Mustafasohail7/Capstone/main/vanilla/find_files.py\n",
            "Resolving raw.githubusercontent.com (raw.githubusercontent.com)... 185.199.111.133, 185.199.108.133, 185.199.109.133, ...\n",
            "Connecting to raw.githubusercontent.com (raw.githubusercontent.com)|185.199.111.133|:443... connected.\n",
            "HTTP request sent, awaiting response... 200 OK\n",
            "Length: 1069 (1.0K) [text/plain]\n",
            "Saving to: ‘src/algos/find_files.py’\n",
            "\n",
            "find_files.py       100%[===================>]   1.04K  --.-KB/s    in 0s      \n",
            "\n",
            "2024-05-11 06:51:43 (49.1 MB/s) - ‘src/algos/find_files.py’ saved [1069/1069]\n",
            "\n"
          ]
        }
      ],
      "source": [
        "!wget -P src/api/ -nc \"https://github.com/Mustafasohail7/Capstone/raw/main/API/searchScene.py\"\n",
        "!wget -P src/api/ -nc \"https://github.com/Mustafasohail7/Capstone/raw/main/API/landsat.py\"\n",
        "!wget -P src/api/ -nc \"https://github.com/Mustafasohail7/Capstone/raw/main/API/utils.py\"\n",
        "!wget -nc \"https://github.com/Mustafasohail7/Capstone/raw/main/API/co-ords.txt\"\n",
        "!wget -nc \"https://github.com/Mustafasohail7/Capstone/raw/main/API/testing_coords.txt\"\n",
        "!wget -P src/algos/ -nc \"https://github.com/Mustafasohail7/Capstone/raw/main/vanilla/process.py\"\n",
        "!wget -P src/algos/ -nc \"https://github.com/Mustafasohail7/Capstone/raw/main/vanilla/main_helper.py\"\n",
        "!wget -P src/algos/ -nc \"https://github.com/Mustafasohail7/Capstone/raw/main/vanilla/find_files.py\""
      ]
    },
    {
      "cell_type": "markdown",
      "source": [
        "### Downloading Scene Files"
      ],
      "metadata": {
        "id": "QZNjyLljcmJ6"
      }
    },
    {
      "cell_type": "code",
      "source": [
        "import sys\n",
        "sys.path.append('/content/src/api')\n",
        "from searchScene import searchScene\n",
        "\n",
        "searchScene(coords_file,cloud_cover,method,start_date,end_date)"
      ],
      "metadata": {
        "colab": {
          "base_uri": "https://localhost:8080/"
        },
        "id": "jqagHbRLmTH7",
        "outputId": "14352b4f-ac71-4032-e765-8297fd0ac6fb"
      },
      "execution_count": 17,
      "outputs": [
        {
          "output_type": "stream",
          "name": "stdout",
          "text": [
            "Directory downloads successfully deleted.\n",
            "coordinate: 1 out of 1\n",
            "First Scene Acquired for 2022-07-21\n",
            "--------------------------\n",
            "Second Scene Acquired for 2022-07-05\n",
            "--------------------------\n",
            "Download options found\n",
            "--------------------------\n",
            "Products available to download:  8\n",
            "--------------------------\n",
            "All downloads available\n",
            "--------------------------\n",
            "Downloading B3.TIF\n",
            "testing\n",
            "requesting session\n",
            "https://landsatlook.usgs.gov/data/collection02/level-2/standard/oli-tirs/2022/150/034/LC08_L2SP_150034_20220705_20220708_02_T1/LC08_L2SP_150034_20220705_20220708_02_T1_SR_B3.TIF?requestSignature=eyJkb3dubG9hZEFwcCI6Ik0yTSIsImNvbnRhY3RJZCI6MjY4ODc5MzMsImRvd25sb2FkSWQiOjYyMTUzMDE4NiwiZGF0ZUdlbmVyYXRlZCI6IjIwMjQtMDUtMTFUMDI6NDQ6MjktMDU6MDAiLCJpZCI6IkxDMDhfTDJTUF8xNTAwMzRfMjAyMjA3MDVfMjAyMjA3MDhfMDJfVDFfU1JfQjMuVElGIiwic2lnbmF0dXJlIjoiJDUkJElJTFZwXC9tYmhDY3Z0YjExV2hyWDNUdjBhRUlDdWhhNzQ5a1F1Wk1VZTI4In0=\n",
            "got response\n",
            "downloading from here\n",
            "File downloaded successfully.\n",
            "--------------------------\n",
            "Downloading B5.TIF\n",
            "testing\n",
            "requesting session\n",
            "https://landsatlook.usgs.gov/data/collection02/level-2/standard/oli-tirs/2022/150/034/LC08_L2SP_150034_20220705_20220708_02_T1/LC08_L2SP_150034_20220705_20220708_02_T1_SR_B5.TIF?requestSignature=eyJkb3dubG9hZEFwcCI6Ik0yTSIsImNvbnRhY3RJZCI6MjY4ODc5MzMsImRvd25sb2FkSWQiOjYyMTUzMDE4OCwiZGF0ZUdlbmVyYXRlZCI6IjIwMjQtMDUtMTFUMDI6NDQ6MjktMDU6MDAiLCJpZCI6IkxDMDhfTDJTUF8xNTAwMzRfMjAyMjA3MDVfMjAyMjA3MDhfMDJfVDFfU1JfQjUuVElGIiwic2lnbmF0dXJlIjoiJDUkJGlZWnhyMDQua3RaR2dRTWw1c01LYTBpSm9KSXFsSmQ5VlJQZUZHVUo4RDAifQ==\n",
            "got response\n",
            "downloading from here\n",
            "File downloaded successfully.\n",
            "--------------------------\n",
            "Downloading B3.TIF\n",
            "testing\n",
            "requesting session\n",
            "https://landsatlook.usgs.gov/data/collection02/level-2/standard/oli-tirs/2022/150/034/LC08_L2SP_150034_20220721_20220726_02_T1/LC08_L2SP_150034_20220721_20220726_02_T1_SR_B3.TIF?requestSignature=eyJkb3dubG9hZEFwcCI6Ik0yTSIsImNvbnRhY3RJZCI6MjY4ODc5MzMsImRvd25sb2FkSWQiOjYyMTUzMDE5MCwiZGF0ZUdlbmVyYXRlZCI6IjIwMjQtMDUtMTFUMDI6NDQ6MzAtMDU6MDAiLCJpZCI6IkxDMDhfTDJTUF8xNTAwMzRfMjAyMjA3MjFfMjAyMjA3MjZfMDJfVDFfU1JfQjMuVElGIiwic2lnbmF0dXJlIjoiJDUkJFdIcXZUOXJ0Zzl2OXdGa3FaazJqQ0dcL09IZkZFQXNFNjNBWVAyR1pVZ0c2In0=\n",
            "got response\n",
            "downloading from here\n",
            "File downloaded successfully.\n",
            "--------------------------\n",
            "Downloading B5.TIF\n",
            "testing\n",
            "requesting session\n",
            "https://landsatlook.usgs.gov/data/collection02/level-2/standard/oli-tirs/2022/150/034/LC08_L2SP_150034_20220721_20220726_02_T1/LC08_L2SP_150034_20220721_20220726_02_T1_SR_B5.TIF?requestSignature=eyJkb3dubG9hZEFwcCI6Ik0yTSIsImNvbnRhY3RJZCI6MjY4ODc5MzMsImRvd25sb2FkSWQiOjYyMTUzMDE5MiwiZGF0ZUdlbmVyYXRlZCI6IjIwMjQtMDUtMTFUMDI6NDQ6MzAtMDU6MDAiLCJpZCI6IkxDMDhfTDJTUF8xNTAwMzRfMjAyMjA3MjFfMjAyMjA3MjZfMDJfVDFfU1JfQjUuVElGIiwic2lnbmF0dXJlIjoiJDUkJC5Wa21iaThNTFR6VHV5NVZUQXU0V1lEQ1BlUlZhaTJHSC5pRVF1RThobjQifQ==\n",
            "got response\n",
            "downloading from here\n",
            "File downloaded successfully.\n",
            "--------------------------\n"
          ]
        }
      ]
    },
    {
      "cell_type": "markdown",
      "source": [
        "### Processing Images"
      ],
      "metadata": {
        "id": "XKyxxJB3NQLj"
      }
    },
    {
      "cell_type": "code",
      "source": [
        "%matplotlib inline\n",
        "import sys\n",
        "sys.path.append('/content/src/algos')\n",
        "\n",
        "from process import process\n",
        "from find_files import find\n",
        "\n",
        "file_paths = find()\n",
        "\n",
        "for i in range(0,len(file_paths),2):\n",
        "    process(file_paths[i], file_paths[i+1], method, threshold, False)\n"
      ],
      "metadata": {
        "colab": {
          "base_uri": "https://localhost:8080/",
          "height": 521
        },
        "id": "fkkiGpKVvjLq",
        "outputId": "9396e235-4cd4-4d7d-abf6-cdfd58ff1100"
      },
      "execution_count": 18,
      "outputs": [
        {
          "output_type": "stream",
          "name": "stdout",
          "text": [
            "Found 2 subdirectories in the downloads folder.\n",
            "saving in <built-in function dir>\n"
          ]
        },
        {
          "output_type": "display_data",
          "data": {
            "text/plain": [
              "<Figure size 640x480 with 2 Axes>"
            ],
            "image/png": "[encoded data removed]"
          },
          "metadata": {}
        },
        {
          "output_type": "stream",
          "name": "stdout",
          "text": [
            "file saved\n",
            "Net water change: 0.8287641000000001 km^2\n"
          ]
        }
      ]
    }
  ]
}