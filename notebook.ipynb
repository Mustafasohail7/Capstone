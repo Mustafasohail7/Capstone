{
  "nbformat": 4,
  "nbformat_minor": 0,
  "metadata": {
    "colab": {
      "provenance": [],
      "authorship_tag": "ABX9TyOXbIAmUWXSdkKtMgdOg6YX",
      "include_colab_link": true
    },
    "kernelspec": {
      "name": "python3",
      "display_name": "Python 3"
    },
    "language_info": {
      "name": "python"
    }
  },
  "cells": [
    {
      "cell_type": "markdown",
      "metadata": {
        "id": "view-in-github",
        "colab_type": "text"
      },
      "source": [
        "<a href=\"https://colab.research.google.com/github/Mustafasohail7/Capstone/blob/main/notebook.ipynb\" target=\"_parent\"><img src=\"https://colab.research.google.com/assets/colab-badge.svg\" alt=\"Open In Colab\"/></a>"
      ]
    },
    {
      "cell_type": "markdown",
      "source": [
        "### Parameters"
      ],
      "metadata": {
        "id": "084206JbtxuI"
      }
    },
    {
      "cell_type": "code",
      "source": [
        "start_date = '2024-05-09'\n",
        "end_date = ''\n",
        "coords_file = 'testing_coords.txt'\n",
        "method = 'NDWI'\n",
        "threshold = 0.05"
      ],
      "metadata": {
        "id": "_GzJOe56tz35"
      },
      "execution_count": 1,
      "outputs": []
    },
    {
      "cell_type": "markdown",
      "source": [
        "### Setting Up Dependencies"
      ],
      "metadata": {
        "id": "oIGrdnZNcZ5r"
      }
    },
    {
      "cell_type": "code",
      "source": [
        "!pip install landsatxplore numpy scipy matplotlib rasterio --quiet 2> /dev/null"
      ],
      "metadata": {
        "id": "aKOfXUozmLUq"
      },
      "execution_count": 4,
      "outputs": []
    },
    {
      "cell_type": "code",
      "execution_count": 5,
      "metadata": {
        "colab": {
          "base_uri": "https://localhost:8080/"
        },
        "id": "Dm6lodO-lKdl",
        "outputId": "874a44ef-cad7-4279-ed5c-9fd05989b69f"
      },
      "outputs": [
        {
          "output_type": "stream",
          "name": "stdout",
          "text": [
            "File ‘src/api/main.py’ already there; not retrieving.\n",
            "\n",
            "File ‘src/api/landsat.py’ already there; not retrieving.\n",
            "\n",
            "File ‘src/api/utils.py’ already there; not retrieving.\n",
            "\n",
            "File ‘co-ords.txt’ already there; not retrieving.\n",
            "\n",
            "File ‘testing_coords.txt’ already there; not retrieving.\n",
            "\n",
            "File ‘src/algos/main.py’ already there; not retrieving.\n",
            "\n",
            "File ‘src/algos/main_helper.py’ already there; not retrieving.\n",
            "\n",
            "File ‘src/algos/find_files.py’ already there; not retrieving.\n",
            "\n"
          ]
        }
      ],
      "source": [
        "!wget -P src/api/ -nc \"https://github.com/Mustafasohail7/Capstone/raw/main/API/main.py\"\n",
        "!wget -P src/api/ -nc \"https://github.com/Mustafasohail7/Capstone/raw/main/API/landsat.py\"\n",
        "!wget -P src/api/ -nc \"https://github.com/Mustafasohail7/Capstone/raw/main/API/utils.py\"\n",
        "!wget -nc \"https://github.com/Mustafasohail7/Capstone/raw/main/API/co-ords.txt\"\n",
        "!wget -nc \"https://github.com/Mustafasohail7/Capstone/raw/main/API/testing_coords.txt\"\n",
        "!wget -P src/algos/ -nc \"https://github.com/Mustafasohail7/Capstone/raw/main/vanilla/main.py\"\n",
        "!wget -P src/algos/ -nc \"https://github.com/Mustafasohail7/Capstone/raw/main/vanilla/main_helper.py\"\n",
        "!wget -P src/algos/ -nc \"https://github.com/Mustafasohail7/Capstone/raw/main/vanilla/find_files.py\""
      ]
    },
    {
      "cell_type": "markdown",
      "source": [
        "### Downloading Scene Files"
      ],
      "metadata": {
        "id": "QZNjyLljcmJ6"
      }
    },
    {
      "cell_type": "code",
      "source": [
        "!python /content/src/api/main.py {coords_file} {start_date} {end_date}"
      ],
      "metadata": {
        "colab": {
          "base_uri": "https://localhost:8080/"
        },
        "id": "jqagHbRLmTH7",
        "outputId": "7aef5b34-9ec9-4468-8f37-5a96623f705c"
      },
      "execution_count": 6,
      "outputs": [
        {
          "output_type": "stream",
          "name": "stdout",
          "text": [
            "coordinate: 1 out of 1\n",
            "First Scene Acquired for 2024-05-06\n",
            "--------------------------\n",
            "Second Scene Acquired for 2024-04-20\n",
            "--------------------------\n",
            "Download options found\n",
            "--------------------------\n",
            "Products available to download:  8\n",
            "--------------------------\n",
            "retrying...\n",
            "First Scene Acquired for 2024-05-06\n",
            "--------------------------\n",
            "Second Scene Acquired for 2024-04-20\n",
            "--------------------------\n",
            "Download options found\n",
            "--------------------------\n",
            "Products available to download:  8\n",
            "--------------------------\n",
            "All downloads available\n",
            "--------------------------\n",
            "Downloading B3.TIF\n",
            "testing\n",
            "requesting session\n",
            "https://dds.cr.usgs.gov/download/eyJpZCI6NjIwNzU4MTAxLCJjb250YWN0SWQiOjI2ODg3OTMzfQ==\n",
            "got response\n",
            "downloading from here\n",
            "File downloaded successfully.\n",
            "--------------------------\n",
            "Downloading B5.TIF\n",
            "testing\n",
            "requesting session\n",
            "https://dds.cr.usgs.gov/download/eyJpZCI6NjIwNzU4MTAyLCJjb250YWN0SWQiOjI2ODg3OTMzfQ==\n",
            "got response\n",
            "downloading from here\n",
            "File downloaded successfully.\n",
            "--------------------------\n",
            "Downloading B3.TIF\n",
            "testing\n",
            "requesting session\n",
            "https://dds.cr.usgs.gov/download/eyJpZCI6NjIwNzU4MTAzLCJjb250YWN0SWQiOjI2ODg3OTMzfQ==\n",
            "got response\n",
            "downloading from here\n",
            "File downloaded successfully.\n",
            "--------------------------\n",
            "Downloading B5.TIF\n",
            "testing\n",
            "requesting session\n",
            "https://dds.cr.usgs.gov/download/eyJpZCI6NjIwNzU4MTA0LCJjb250YWN0SWQiOjI2ODg3OTMzfQ==\n",
            "got response\n",
            "downloading from here\n",
            "File downloaded successfully.\n",
            "--------------------------\n"
          ]
        }
      ]
    },
    {
      "cell_type": "markdown",
      "source": [
        "### Processing Images"
      ],
      "metadata": {
        "id": "XKyxxJB3NQLj"
      }
    },
    {
      "cell_type": "code",
      "source": [
        "import sys\n",
        "sys.path.append('/content/src/algos')\n",
        "\n",
        "from main import main\n",
        "from find_files import find\n",
        "\n",
        "if method=='NDWI':\n",
        "  index=0\n",
        "elif method=='AEWI':\n",
        "  index==1\n",
        "\n",
        "file_paths = find()\n",
        "\n",
        "main(file_paths[0], file_paths[1], index, threshold, False)\n"
      ],
      "metadata": {
        "id": "fkkiGpKVvjLq",
        "outputId": "12d30cd6-31ab-4312-c586-9fbd65c5f63e",
        "colab": {
          "base_uri": "https://localhost:8080/",
          "height": 521
        }
      },
      "execution_count": 13,
      "outputs": [
        {
          "output_type": "stream",
          "name": "stdout",
          "text": [
            "Found two subdirectories in the downloads folder.\n"
          ]
        },
        {
          "output_type": "stream",
          "name": "stderr",
          "text": [
            "/content/src/algos/main_helper.py:19: RuntimeWarning: invalid value encountered in divide\n",
            "  ndwi = (green - nir) / (green + nir)\n"
          ]
        },
        {
          "output_type": "display_data",
          "data": {
            "text/plain": [
              "<Figure size 640x480 with 2 Axes>"
            ],
            "image/png": "[encoded data removed]"
          },
          "metadata": {}
        },
        {
          "output_type": "stream",
          "name": "stdout",
          "text": [
            "Net water change: 70134.3 m^2\n"
          ]
        }
      ]
    }
  ]
}