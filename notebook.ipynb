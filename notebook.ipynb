{
  "cells": [
    {
      "cell_type": "markdown",
      "metadata": {
        "colab_type": "text",
        "id": "view-in-github"
      },
      "source": [
        "<a href=\"https://colab.research.google.com/github/Mustafasohail7/Capstone/blob/main/notebook.ipynb\" target=\"_parent\"><img src=\"https://colab.research.google.com/assets/colab-badge.svg\" alt=\"Open In Colab\"/></a>"
      ]
    },
    {
      "cell_type": "markdown",
      "metadata": {
        "id": "084206JbtxuI"
      },
      "source": [
        "### Parameters"
      ]
    },
    {
      "cell_type": "code",
      "execution_count": 1,
      "metadata": {
        "id": "_GzJOe56tz35"
      },
      "outputs": [],
      "source": [
        "start_date = \"\"\n",
        "end_date = \"\"\n",
        "coords_file = 'testing_coords.txt'\n",
        "method = 'NDWI'\n",
        "cloud_cover = 10\n",
        "threshold = 0.05"
      ]
    },
    {
      "cell_type": "markdown",
      "metadata": {
        "id": "oIGrdnZNcZ5r"
      },
      "source": [
        "### Setting Up Dependencies"
      ]
    },
    {
      "cell_type": "code",
      "execution_count": 2,
      "metadata": {
        "colab": {
          "base_uri": "https://localhost:8080/"
        },
        "id": "aKOfXUozmLUq",
        "outputId": "fe2fc785-f88b-4dc0-ed76-038b74d17da7"
      },
      "outputs": [],
      "source": [
        "!pip install landsatxplore numpy scipy matplotlib rasterio --quiet 2> /dev/null"
      ]
    },
    {
      "cell_type": "code",
      "execution_count": 3,
      "metadata": {
        "colab": {
          "base_uri": "https://localhost:8080/"
        },
        "id": "R1INGgpBGucV",
        "outputId": "b6d1a1bc-1e50-4c7b-b992-39963b337b56"
      },
      "outputs": [],
      "source": [
        "!rm -r src"
      ]
    },
    {
      "cell_type": "code",
      "execution_count": 4,
      "metadata": {
        "colab": {
          "base_uri": "https://localhost:8080/"
        },
        "id": "Dm6lodO-lKdl",
        "outputId": "7486447f-e355-473b-e8d0-abf0a32eeafa"
      },
      "outputs": [
        {
          "name": "stdout",
          "output_type": "stream",
          "text": [
            "--2024-05-09 07:23:09--  https://github.com/Mustafasohail7/Capstone/raw/main/API/searchScene.py\n",
            "Resolving github.com (github.com)... 20.205.243.166\n",
            "Connecting to github.com (github.com)|20.205.243.166|:443... connected.\n",
            "HTTP request sent, awaiting response... 302 Found\n",
            "Location: https://raw.githubusercontent.com/Mustafasohail7/Capstone/main/API/searchScene.py [following]\n",
            "--2024-05-09 07:23:09--  https://raw.githubusercontent.com/Mustafasohail7/Capstone/main/API/searchScene.py\n",
            "Resolving raw.githubusercontent.com (raw.githubusercontent.com)... 185.199.111.133, 185.199.108.133, 185.199.109.133, ...\n",
            "Connecting to raw.githubusercontent.com (raw.githubusercontent.com)|185.199.111.133|:443... connected.\n",
            "HTTP request sent, awaiting response... 200 OK\n",
            "Length: 2497 (2.4K) [text/plain]\n",
            "Saving to: ‘src/api/searchScene.py’\n",
            "\n",
            "searchScene.py      100%[===================>]   2.44K  --.-KB/s    in 0s      \n",
            "\n",
            "2024-05-09 07:23:09 (40.1 MB/s) - ‘src/api/searchScene.py’ saved [2497/2497]\n",
            "\n",
            "--2024-05-09 07:23:10--  https://github.com/Mustafasohail7/Capstone/raw/main/API/landsat.py\n",
            "Resolving github.com (github.com)... 20.205.243.166\n",
            "Connecting to github.com (github.com)|20.205.243.166|:443... connected.\n",
            "HTTP request sent, awaiting response... 302 Found\n",
            "Location: https://raw.githubusercontent.com/Mustafasohail7/Capstone/main/API/landsat.py [following]\n",
            "--2024-05-09 07:23:11--  https://raw.githubusercontent.com/Mustafasohail7/Capstone/main/API/landsat.py\n",
            "Resolving raw.githubusercontent.com (raw.githubusercontent.com)... 185.199.108.133, 185.199.111.133, 185.199.109.133, ...\n",
            "Connecting to raw.githubusercontent.com (raw.githubusercontent.com)|185.199.108.133|:443... connected.\n",
            "HTTP request sent, awaiting response... 200 OK\n",
            "Length: 6323 (6.2K) [text/plain]\n",
            "Saving to: ‘src/api/landsat.py’\n",
            "\n",
            "landsat.py          100%[===================>]   6.17K  --.-KB/s    in 0s      \n",
            "\n",
            "2024-05-09 07:23:11 (25.2 MB/s) - ‘src/api/landsat.py’ saved [6323/6323]\n",
            "\n",
            "--2024-05-09 07:23:12--  https://github.com/Mustafasohail7/Capstone/raw/main/API/utils.py\n",
            "Resolving github.com (github.com)... 20.205.243.166\n",
            "Connecting to github.com (github.com)|20.205.243.166|:443... connected.\n",
            "HTTP request sent, awaiting response... 302 Found\n",
            "Location: https://raw.githubusercontent.com/Mustafasohail7/Capstone/main/API/utils.py [following]\n",
            "--2024-05-09 07:23:12--  https://raw.githubusercontent.com/Mustafasohail7/Capstone/main/API/utils.py\n",
            "Resolving raw.githubusercontent.com (raw.githubusercontent.com)... 185.199.109.133, 185.199.111.133, 185.199.108.133, ...\n",
            "Connecting to raw.githubusercontent.com (raw.githubusercontent.com)|185.199.109.133|:443... connected.\n",
            "HTTP request sent, awaiting response... 200 OK\n",
            "Length: 3011 (2.9K) [text/plain]\n",
            "Saving to: ‘src/api/utils.py’\n",
            "\n",
            "utils.py            100%[===================>]   2.94K  --.-KB/s    in 0s      \n",
            "\n",
            "2024-05-09 07:23:12 (25.3 MB/s) - ‘src/api/utils.py’ saved [3011/3011]\n",
            "\n",
            "File ‘co-ords.txt’ already there; not retrieving.\n",
            "\n",
            "File ‘testing_coords.txt’ already there; not retrieving.\n",
            "\n",
            "--2024-05-09 07:23:14--  https://github.com/Mustafasohail7/Capstone/raw/main/vanilla/process.py\n",
            "Resolving github.com (github.com)... 20.205.243.166\n",
            "Connecting to github.com (github.com)|20.205.243.166|:443... connected.\n",
            "HTTP request sent, awaiting response... 302 Found\n",
            "Location: https://raw.githubusercontent.com/Mustafasohail7/Capstone/main/vanilla/process.py [following]\n",
            "--2024-05-09 07:23:14--  https://raw.githubusercontent.com/Mustafasohail7/Capstone/main/vanilla/process.py\n",
            "Resolving raw.githubusercontent.com (raw.githubusercontent.com)... 185.199.109.133, 185.199.108.133, 185.199.111.133, ...\n",
            "Connecting to raw.githubusercontent.com (raw.githubusercontent.com)|185.199.109.133|:443... connected.\n",
            "HTTP request sent, awaiting response... 200 OK\n",
            "Length: 2731 (2.7K) [text/plain]\n",
            "Saving to: ‘src/algos/process.py’\n",
            "\n",
            "process.py          100%[===================>]   2.67K  --.-KB/s    in 0s      \n",
            "\n",
            "2024-05-09 07:23:14 (42.9 MB/s) - ‘src/algos/process.py’ saved [2731/2731]\n",
            "\n",
            "--2024-05-09 07:23:15--  https://github.com/Mustafasohail7/Capstone/raw/main/vanilla/main_helper.py\n",
            "Resolving github.com (github.com)... 20.205.243.166\n",
            "Connecting to github.com (github.com)|20.205.243.166|:443... connected.\n",
            "HTTP request sent, awaiting response... 302 Found\n",
            "Location: https://raw.githubusercontent.com/Mustafasohail7/Capstone/main/vanilla/main_helper.py [following]\n",
            "--2024-05-09 07:23:15--  https://raw.githubusercontent.com/Mustafasohail7/Capstone/main/vanilla/main_helper.py\n",
            "Resolving raw.githubusercontent.com (raw.githubusercontent.com)... 185.199.111.133, 185.199.110.133, 185.199.109.133, ...\n",
            "Connecting to raw.githubusercontent.com (raw.githubusercontent.com)|185.199.111.133|:443... connected.\n",
            "HTTP request sent, awaiting response... 200 OK\n",
            "Length: 5917 (5.8K) [text/plain]\n",
            "Saving to: ‘src/algos/main_helper.py’\n",
            "\n",
            "main_helper.py      100%[===================>]   5.78K  --.-KB/s    in 0s      \n",
            "\n",
            "2024-05-09 07:23:15 (22.3 MB/s) - ‘src/algos/main_helper.py’ saved [5917/5917]\n",
            "\n",
            "--2024-05-09 07:23:16--  https://github.com/Mustafasohail7/Capstone/raw/main/vanilla/find_files.py\n",
            "Resolving github.com (github.com)... 20.205.243.166\n",
            "Connecting to github.com (github.com)|20.205.243.166|:443... connected.\n",
            "HTTP request sent, awaiting response... 302 Found\n",
            "Location: https://raw.githubusercontent.com/Mustafasohail7/Capstone/main/vanilla/find_files.py [following]\n",
            "--2024-05-09 07:23:17--  https://raw.githubusercontent.com/Mustafasohail7/Capstone/main/vanilla/find_files.py\n",
            "Resolving raw.githubusercontent.com (raw.githubusercontent.com)... 185.199.109.133, 185.199.110.133, 185.199.111.133, ...\n",
            "Connecting to raw.githubusercontent.com (raw.githubusercontent.com)|185.199.109.133|:443... connected.\n",
            "HTTP request sent, awaiting response... 200 OK\n",
            "Length: 826 [text/plain]\n",
            "Saving to: ‘src/algos/find_files.py’\n",
            "\n",
            "find_files.py       100%[===================>]     826  --.-KB/s    in 0s      \n",
            "\n",
            "2024-05-09 07:23:17 (46.4 MB/s) - ‘src/algos/find_files.py’ saved [826/826]\n",
            "\n"
          ]
        }
      ],
      "source": [
        "!wget -P src/api/ -nc \"https://github.com/Mustafasohail7/Capstone/raw/main/API/searchScene.py\"\n",
        "!wget -P src/api/ -nc \"https://github.com/Mustafasohail7/Capstone/raw/main/API/landsat.py\"\n",
        "!wget -P src/api/ -nc \"https://github.com/Mustafasohail7/Capstone/raw/main/API/utils.py\"\n",
        "!wget -nc \"https://github.com/Mustafasohail7/Capstone/raw/main/API/co-ords.txt\"\n",
        "!wget -nc \"https://github.com/Mustafasohail7/Capstone/raw/main/API/testing_coords.txt\"\n",
        "!wget -P src/algos/ -nc \"https://github.com/Mustafasohail7/Capstone/raw/main/vanilla/process.py\"\n",
        "!wget -P src/algos/ -nc \"https://github.com/Mustafasohail7/Capstone/raw/main/vanilla/main_helper.py\"\n",
        "!wget -P src/algos/ -nc \"https://github.com/Mustafasohail7/Capstone/raw/main/vanilla/find_files.py\""
      ]
    },
    {
      "cell_type": "markdown",
      "metadata": {
        "id": "QZNjyLljcmJ6"
      },
      "source": [
        "### Downloading Scene Files"
      ]
    },
    {
      "cell_type": "code",
      "execution_count": null,
      "metadata": {
        "colab": {
          "base_uri": "https://localhost:8080/"
        },
        "id": "jqagHbRLmTH7",
        "outputId": "ffc842b8-2db8-4198-9705-077d3cc0e103"
      },
      "outputs": [],
      "source": [
        "import sys\n",
        "sys.path.append('src/api')\n",
        "from searchScene import searchScene\n",
        "\n",
        "searchScene(coords_file,cloud_cover,start_date,end_date)"
      ]
    },
    {
      "cell_type": "markdown",
      "metadata": {
        "id": "XKyxxJB3NQLj"
      },
      "source": [
        "### Processing Images"
      ]
    },
    {
      "cell_type": "code",
      "execution_count": 6,
      "metadata": {
        "colab": {
          "base_uri": "https://localhost:8080/",
          "height": 106
        },
        "id": "fkkiGpKVvjLq",
        "outputId": "ab703b52-b2b2-41b8-e4ab-d98afb561b14"
      },
      "outputs": [
        {
          "name": "stdout",
          "output_type": "stream",
          "text": [
            "Found two subdirectories in the downloads folder.\n"
          ]
        },
        {
          "name": "stderr",
          "output_type": "stream",
          "text": [
            "/workspaces/Capstone/src/algos/main_helper.py:19: RuntimeWarning: invalid value encountered in divide\n",
            "  ndwi = (green - nir) / (green + nir)\n"
          ]
        },
        {
          "data": {
            "image/png": "[encoded data removed]",
            "text/plain": [
              "<Figure size 640x480 with 2 Axes>"
            ]
          },
          "metadata": {},
          "output_type": "display_data"
        },
        {
          "name": "stdout",
          "output_type": "stream",
          "text": [
            "Net water change: -21573.0 m^2\n"
          ]
        }
      ],
      "source": [
        "%matplotlib inline\n",
        "import sys\n",
        "sys.path.append('src/algos')\n",
        "\n",
        "from process import process\n",
        "from find_files import find\n",
        "\n",
        "if method=='NDWI':\n",
        "  index=0\n",
        "elif method=='AEWI':\n",
        "  index==1\n",
        "\n",
        "file_paths = find()\n",
        "\n",
        "process(file_paths[0], file_paths[1], index, threshold, False)\n"
      ]
    },
    {
      "cell_type": "code",
      "execution_count": null,
      "metadata": {
        "colab": {
          "base_uri": "https://localhost:8080/",
          "height": 17
        },
        "id": "REoeKesyLDzw",
        "outputId": "dfb09ac3-eb30-462a-eac4-821ea10ef1d6"
      },
      "outputs": [],
      "source": [
        "%matplotlib inline\n",
        "import matplotlib.pyplot as plt\n",
        "x = [1,2,3]\n",
        "\n",
        "plt.plot(x)\n",
        "plt.show()"
      ]
    }
  ],
  "metadata": {
    "colab": {
      "authorship_tag": "ABX9TyPZoarSm6DkvxREhgFUQpzH",
      "include_colab_link": true,
      "provenance": []
    },
    "kernelspec": {
      "display_name": "Python 3",
      "name": "python3"
    },
    "language_info": {
      "codemirror_mode": {
        "name": "ipython",
        "version": 3
      },
      "file_extension": ".py",
      "mimetype": "text/x-python",
      "name": "python",
      "nbconvert_exporter": "python",
      "pygments_lexer": "ipython3",
      "version": "3.10.13"
    }
  },
  "nbformat": 4,
  "nbformat_minor": 0
}
