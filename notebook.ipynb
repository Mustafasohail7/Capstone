{
  "cells": [
    {
      "cell_type": "markdown",
      "metadata": {
        "colab_type": "text",
        "id": "view-in-github"
      },
      "source": [
        "<a href=\"https://colab.research.google.com/github/Mustafasohail7/Capstone/blob/main/notebook.ipynb\" target=\"_parent\"><img src=\"https://colab.research.google.com/assets/colab-badge.svg\" alt=\"Open In Colab\"/></a>"
      ]
    },
    {
      "cell_type": "markdown",
      "metadata": {
        "id": "084206JbtxuI"
      },
      "source": [
        "### Parameters"
      ]
    },
    {
      "cell_type": "code",
      "execution_count": null,
      "metadata": {
        "id": "_GzJOe56tz35"
      },
      "outputs": [],
      "source": [
        "start_date = \"\"\n",
        "end_date = \"\"\n",
        "coords_file = 'testing_coords.txt'\n",
        "method = 'NDWI'\n",
        "cloud_cover = 10\n",
        "threshold = 0.05"
      ]
    },
    {
      "cell_type": "markdown",
      "metadata": {
        "id": "oIGrdnZNcZ5r"
      },
      "source": [
        "### Setting Up Dependencies"
      ]
    },
    {
      "cell_type": "code",
      "execution_count": null,
      "metadata": {
        "colab": {
          "base_uri": "https://localhost:8080/"
        },
        "id": "aKOfXUozmLUq",
        "outputId": "fe2fc785-f88b-4dc0-ed76-038b74d17da7"
      },
      "outputs": [],
      "source": [
        "!pip install landsatxplore numpy scipy matplotlib rasterio --quiet 2> /dev/null"
      ]
    },
    {
      "cell_type": "code",
      "execution_count": null,
      "metadata": {
        "colab": {
          "base_uri": "https://localhost:8080/"
        },
        "id": "R1INGgpBGucV",
        "outputId": "b6d1a1bc-1e50-4c7b-b992-39963b337b56"
      },
      "outputs": [],
      "source": [
        "!rm -r /content/src"
      ]
    },
    {
      "cell_type": "code",
      "execution_count": null,
      "metadata": {
        "colab": {
          "base_uri": "https://localhost:8080/"
        },
        "id": "Dm6lodO-lKdl",
        "outputId": "7486447f-e355-473b-e8d0-abf0a32eeafa"
      },
      "outputs": [],
      "source": [
        "!wget -P src/api/ -nc \"https://github.com/Mustafasohail7/Capstone/raw/main/API/searchScene.py\"\n",
        "!wget -P src/api/ -nc \"https://github.com/Mustafasohail7/Capstone/raw/main/API/landsat.py\"\n",
        "!wget -P src/api/ -nc \"https://github.com/Mustafasohail7/Capstone/raw/main/API/utils.py\"\n",
        "!wget -nc \"https://github.com/Mustafasohail7/Capstone/raw/main/API/co-ords.txt\"\n",
        "!wget -nc \"https://github.com/Mustafasohail7/Capstone/raw/main/API/testing_coords.txt\"\n",
        "!wget -P src/algos/ -nc \"https://github.com/Mustafasohail7/Capstone/raw/main/vanilla/process.py\"\n",
        "!wget -P src/algos/ -nc \"https://github.com/Mustafasohail7/Capstone/raw/main/vanilla/main_helper.py\"\n",
        "!wget -P src/algos/ -nc \"https://github.com/Mustafasohail7/Capstone/raw/main/vanilla/find_files.py\""
      ]
    },
    {
      "cell_type": "markdown",
      "metadata": {
        "id": "QZNjyLljcmJ6"
      },
      "source": [
        "### Downloading Scene Files"
      ]
    },
    {
      "cell_type": "code",
      "execution_count": null,
      "metadata": {
        "colab": {
          "base_uri": "https://localhost:8080/"
        },
        "id": "jqagHbRLmTH7",
        "outputId": "ffc842b8-2db8-4198-9705-077d3cc0e103"
      },
      "outputs": [],
      "source": [
        "import sys\n",
        "sys.path.append('src/api')\n",
        "from searchScene import searchScene\n",
        "\n",
        "searchScene(coords_file,cloud_cover,start_date,end_date)"
      ]
    },
    {
      "cell_type": "markdown",
      "metadata": {
        "id": "XKyxxJB3NQLj"
      },
      "source": [
        "### Processing Images"
      ]
    },
    {
      "cell_type": "code",
      "execution_count": 10,
      "metadata": {
        "colab": {
          "base_uri": "https://localhost:8080/",
          "height": 106
        },
        "id": "fkkiGpKVvjLq",
        "outputId": "ab703b52-b2b2-41b8-e4ab-d98afb561b14"
      },
      "outputs": [
        {
          "ename": "FileNotFoundError",
          "evalue": "[Errno 2] No such file or directory: '/content/downloads'",
          "output_type": "error",
          "traceback": [
            "\u001b[0;31m---------------------------------------------------------------------------\u001b[0m",
            "\u001b[0;31mFileNotFoundError\u001b[0m                         Traceback (most recent call last)",
            "Cell \u001b[0;32mIn[10], line 13\u001b[0m\n\u001b[1;32m     10\u001b[0m \u001b[38;5;28;01melif\u001b[39;00m method\u001b[38;5;241m==\u001b[39m\u001b[38;5;124m'\u001b[39m\u001b[38;5;124mAEWI\u001b[39m\u001b[38;5;124m'\u001b[39m:\n\u001b[1;32m     11\u001b[0m   index\u001b[38;5;241m==\u001b[39m\u001b[38;5;241m1\u001b[39m\n\u001b[0;32m---> 13\u001b[0m file_paths \u001b[38;5;241m=\u001b[39m \u001b[43mfind\u001b[49m\u001b[43m(\u001b[49m\u001b[43m)\u001b[49m\n\u001b[1;32m     15\u001b[0m process(file_paths[\u001b[38;5;241m0\u001b[39m], file_paths[\u001b[38;5;241m1\u001b[39m], index, threshold, \u001b[38;5;28;01mFalse\u001b[39;00m)\n",
            "File \u001b[0;32m/workspaces/Capstone/src/algos/find_files.py:22\u001b[0m, in \u001b[0;36mfind\u001b[0;34m()\u001b[0m\n\u001b[1;32m     19\u001b[0m \u001b[38;5;28;01mdef\u001b[39;00m \u001b[38;5;21mfind\u001b[39m():\n\u001b[1;32m     20\u001b[0m     \u001b[38;5;66;03m# Assuming your notebook is in '/content'\u001b[39;00m\n\u001b[1;32m     21\u001b[0m     base_dir \u001b[38;5;241m=\u001b[39m \u001b[38;5;124m'\u001b[39m\u001b[38;5;124m/content\u001b[39m\u001b[38;5;124m'\u001b[39m\n\u001b[0;32m---> 22\u001b[0m     file_paths \u001b[38;5;241m=\u001b[39m \u001b[43mfind_file_paths\u001b[49m\u001b[43m(\u001b[49m\u001b[43mbase_dir\u001b[49m\u001b[43m)\u001b[49m\n\u001b[1;32m     23\u001b[0m     \u001b[38;5;28;01mif\u001b[39;00m file_paths:\n\u001b[1;32m     24\u001b[0m         \u001b[38;5;28mprint\u001b[39m(\u001b[38;5;124m\"\u001b[39m\u001b[38;5;124mFound two subdirectories in the downloads folder.\u001b[39m\u001b[38;5;124m\"\u001b[39m)\n",
            "File \u001b[0;32m/workspaces/Capstone/src/algos/find_files.py:13\u001b[0m, in \u001b[0;36mfind_file_paths\u001b[0;34m(base_dir)\u001b[0m\n\u001b[1;32m     11\u001b[0m \u001b[38;5;28;01mdef\u001b[39;00m \u001b[38;5;21mfind_file_paths\u001b[39m(base_dir):\n\u001b[1;32m     12\u001b[0m     downloads_dir \u001b[38;5;241m=\u001b[39m os\u001b[38;5;241m.\u001b[39mpath\u001b[38;5;241m.\u001b[39mjoin(base_dir, \u001b[38;5;124m'\u001b[39m\u001b[38;5;124mdownloads\u001b[39m\u001b[38;5;124m'\u001b[39m)\n\u001b[0;32m---> 13\u001b[0m     subdirectories \u001b[38;5;241m=\u001b[39m \u001b[43mfind_subdirectories\u001b[49m\u001b[43m(\u001b[49m\u001b[43mdownloads_dir\u001b[49m\u001b[43m)\u001b[49m\n\u001b[1;32m     14\u001b[0m     \u001b[38;5;28;01mif\u001b[39;00m \u001b[38;5;28mlen\u001b[39m(subdirectories) \u001b[38;5;241m>\u001b[39m\u001b[38;5;241m=\u001b[39m \u001b[38;5;241m2\u001b[39m:\n\u001b[1;32m     15\u001b[0m         \u001b[38;5;28;01mreturn\u001b[39;00m subdirectories[:\u001b[38;5;241m2\u001b[39m]\n",
            "File \u001b[0;32m/workspaces/Capstone/src/algos/find_files.py:5\u001b[0m, in \u001b[0;36mfind_subdirectories\u001b[0;34m(parent_dir)\u001b[0m\n\u001b[1;32m      3\u001b[0m \u001b[38;5;28;01mdef\u001b[39;00m \u001b[38;5;21mfind_subdirectories\u001b[39m(parent_dir):\n\u001b[1;32m      4\u001b[0m     subdirectories \u001b[38;5;241m=\u001b[39m []\n\u001b[0;32m----> 5\u001b[0m     \u001b[38;5;28;01mfor\u001b[39;00m item \u001b[38;5;129;01min\u001b[39;00m \u001b[43mos\u001b[49m\u001b[38;5;241;43m.\u001b[39;49m\u001b[43mlistdir\u001b[49m\u001b[43m(\u001b[49m\u001b[43mparent_dir\u001b[49m\u001b[43m)\u001b[49m:\n\u001b[1;32m      6\u001b[0m         item_path \u001b[38;5;241m=\u001b[39m os\u001b[38;5;241m.\u001b[39mpath\u001b[38;5;241m.\u001b[39mjoin(parent_dir, item)\n\u001b[1;32m      7\u001b[0m         \u001b[38;5;28;01mif\u001b[39;00m os\u001b[38;5;241m.\u001b[39mpath\u001b[38;5;241m.\u001b[39misdir(item_path):\n",
            "\u001b[0;31mFileNotFoundError\u001b[0m: [Errno 2] No such file or directory: '/content/downloads'"
          ]
        }
      ],
      "source": [
        "%matplotlib notebook\n",
        "import sys\n",
        "sys.path.append('src/algos')\n",
        "\n",
        "from process import process\n",
        "from find_files import find\n",
        "\n",
        "if method=='NDWI':\n",
        "  index=0\n",
        "elif method=='AEWI':\n",
        "  index==1\n",
        "\n",
        "file_paths = find()\n",
        "\n",
        "process(file_paths[0], file_paths[1], index, threshold, False)\n"
      ]
    },
    {
      "cell_type": "code",
      "execution_count": null,
      "metadata": {
        "colab": {
          "base_uri": "https://localhost:8080/",
          "height": 17
        },
        "id": "REoeKesyLDzw",
        "outputId": "dfb09ac3-eb30-462a-eac4-821ea10ef1d6"
      },
      "outputs": [],
      "source": [
        "%matplotlib inline\n",
        "import matplotlib.pyplot as plt\n",
        "x = [1,2,3]\n",
        "\n",
        "plt.plot(x)\n",
        "plt.show()"
      ]
    }
  ],
  "metadata": {
    "colab": {
      "authorship_tag": "ABX9TyPZoarSm6DkvxREhgFUQpzH",
      "include_colab_link": true,
      "provenance": []
    },
    "kernelspec": {
      "display_name": "Python 3",
      "name": "python3"
    },
    "language_info": {
      "codemirror_mode": {
        "name": "ipython",
        "version": 3
      },
      "file_extension": ".py",
      "mimetype": "text/x-python",
      "name": "python",
      "nbconvert_exporter": "python",
      "pygments_lexer": "ipython3",
      "version": "3.10.13"
    }
  },
  "nbformat": 4,
  "nbformat_minor": 0
}
